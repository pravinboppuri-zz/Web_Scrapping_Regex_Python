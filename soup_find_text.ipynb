{
 "cells": [
  {
   "cell_type": "code",
   "execution_count": 6,
   "metadata": {
    "collapsed": true
   },
   "outputs": [],
   "source": [
    "import requests\n",
    "from bs4 import BeautifulSoup\n",
    "import re\n",
    "import fnmatch\n",
    "import pandas as pd"
   ]
  },
  {
   "cell_type": "code",
   "execution_count": 7,
   "metadata": {
    "collapsed": true
   },
   "outputs": [],
   "source": [
    "website = ['http://ppprocessingltd.co.uk', 'http://www.feredaycylinder.com'\n",
    "    , 'https://alphalaser.de'\n",
    "    , 'https://www.onealmfgservices.com'\n",
    "    , 'https://www.taupitz.biz'\n",
    "    , 'http://www.bolducleroux.ca'\n",
    "    , 'https://www.ferricmachinery.com'\n",
    "    , 'http://www.jfe-steel.co.jp'\n",
    "    , 'https://mewi-metallform.de'\n",
    "           ]"
   ]
  },
  {
   "cell_type": "code",
   "execution_count": 8,
   "metadata": {
    "collapsed": true
   },
   "outputs": [],
   "source": [
    "pattern = ['GmbH', 'Ltd', 'Limited', 'Spa', 'Machinery', 'Corporation', 'Leroux','Services']\n",
    "pattern1 = ['Ltd', 'Spa', '.inc']"
   ]
  },
  {
   "cell_type": "code",
   "execution_count": 9,
   "metadata": {},
   "outputs": [
    {
     "name": "stdout",
     "output_type": "stream",
     "text": [
      "website =  http://ppprocessingltd.co.uk\n",
      "website =  http://www.feredaycylinder.com\n",
      "website =  https://alphalaser.de\n",
      "website =  https://www.onealmfgservices.com\n",
      "website =  https://www.taupitz.biz\n",
      "website =  http://www.bolducleroux.ca\n",
      "website =  https://www.ferricmachinery.com\n",
      "website =  http://www.jfe-steel.co.jp\n",
      "website =  https://mewi-metallform.de\n"
     ]
    }
   ],
   "source": [
    "tags = ['p', 'a', 'l1', 'h1', 'font']\n",
    "for site in website:\n",
    "    print(\"website = \", site)\n",
    "    data = requests.get(site)\n",
    "    #         sys.exit(1)\n",
    "\n",
    "    websoup = BeautifulSoup(data.text, 'html.parser')\n",
    "#     print(websoup)"
   ]
  },
  {
   "cell_type": "code",
   "execution_count": 10,
   "metadata": {
    "collapsed": true
   },
   "outputs": [],
   "source": [
    "pattern = ['GmbH', 'Ltd', 'Limited', 'Spa', 'Machinery', 'Corporation', 'Leroux','Group','Inc']\n",
    "tags = ['p', 'a', 'l1', 'h1', 'font','li','ul']"
   ]
  },
  {
   "cell_type": "code",
   "execution_count": 17,
   "metadata": {
    "collapsed": true
   },
   "outputs": [],
   "source": [
    "\n",
    "\n",
    "def scrap_company(site):\n",
    "   #r site in website1:\n",
    "    print(\"website = \", site)\n",
    "    data = requests.get(site) \n",
    "    websoup = BeautifulSoup(data.text, 'html.parser')\n",
    "    for tg in tags:\n",
    "#         print('tag--> ',tg)\n",
    "        for div in websoup.find_all(tg):\n",
    "            raw_cmpny = div.text\n",
    "            for ptn in pattern:\n",
    "#                 if fnmatch.fnmatch(raw_cmpny, '*' + ptn + '*'):\n",
    "#                     process_company = raw_cmpny.split(ptn)[0].strip()  # this will stip out pattern and also newline also whitespaces\n",
    "               \n",
    "                regx_expr = '.*'+ptn\n",
    "                #'[\\D|\\s|\\n|\\t]*'+ptn #'[A-z|a-z|\\s|\\&|\\n|\\t]*'+ptn\n",
    "                # print('>',raw_cmpny)\n",
    "                if re.match(regx_expr , raw_cmpny ):\n",
    "                    process_company = re.findall(regx_expr , raw_cmpny )[0]\n",
    "                    try:\n",
    "                        print(site,':',process_company[-50:])\n",
    "                    except:\n",
    "                        print(site,':',process_company)"
   ]
  },
  {
   "cell_type": "code",
   "execution_count": 18,
   "metadata": {
    "collapsed": true
   },
   "outputs": [],
   "source": [
    "def main ():\n",
    "    print('list of websites are -->\\n', str(website))\n",
    "    company_name = str(input(\"key in the website from the list:\"))\n",
    "    if not re.match('[http://|https://].*',company_name):\n",
    "        try:\n",
    "            company_name = 'http://'+company_name        \n",
    "        except:\n",
    "            company_name = 'https://'+company_name\n",
    "    scrap_company(company_name)\n",
    "    "
   ]
  },
  {
   "cell_type": "code",
   "execution_count": 20,
   "metadata": {},
   "outputs": [
    {
     "name": "stdout",
     "output_type": "stream",
     "text": [
      "list of websites are -->\n",
      " ['http://ppprocessingltd.co.uk', 'http://www.feredaycylinder.com', 'https://alphalaser.de', 'https://www.onealmfgservices.com', 'https://www.taupitz.biz', 'http://www.bolducleroux.ca', 'https://www.ferricmachinery.com', 'http://www.jfe-steel.co.jp', 'https://mewi-metallform.de']\n",
      "key in the website from the list:http://www.feredaycylinder.com\n",
      "website =  http://www.feredaycylinder.com\n",
      "http://www.feredaycylinder.com : Fereday Cylinder Company Ltd\n",
      "http://www.feredaycylinder.com : Fereday Cylinder Company Ltd\n",
      "prog executed sucessfull\n"
     ]
    }
   ],
   "source": [
    "if __name__=='__main__':\n",
    "    main()\n",
    "    print(\"prog executed sucessfull\")"
   ]
  },
  {
   "cell_type": "code",
   "execution_count": null,
   "metadata": {
    "collapsed": true
   },
   "outputs": [],
   "source": []
  }
 ],
 "metadata": {
  "kernelspec": {
   "display_name": "Python 3",
   "language": "python",
   "name": "python3"
  },
  "language_info": {
   "codemirror_mode": {
    "name": "ipython",
    "version": 3
   },
   "file_extension": ".py",
   "mimetype": "text/x-python",
   "name": "python",
   "nbconvert_exporter": "python",
   "pygments_lexer": "ipython3",
   "version": "3.6.1"
  }
 },
 "nbformat": 4,
 "nbformat_minor": 2
}
